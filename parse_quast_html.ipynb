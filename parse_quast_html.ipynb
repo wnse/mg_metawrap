{
 "cells": [
  {
   "cell_type": "code",
   "execution_count": 49,
   "id": "b200cc6e",
   "metadata": {},
   "outputs": [],
   "source": [
    "from bs4 import BeautifulSoup\n",
    "import numpy as np\n",
    "import os\n",
    "import logging\n",
    "import json\n",
    "import argparse"
   ]
  },
  {
   "cell_type": "code",
   "execution_count": 45,
   "id": "01a681e1",
   "metadata": {},
   "outputs": [],
   "source": [
    "def format_key_str(s):\n",
    "    out = s\n",
    "    l = ['#','\\'',' ','(',')','>=','%']\n",
    "    for i in l:\n",
    "        out = out.replace(i,'')\n",
    "    return out\n",
    "\n",
    "\n",
    "def get_total_report(html_file):\n",
    "    outdict = {}\n",
    "    with open(html_file,'rt') as h:\n",
    "        soup = BeautifulSoup(h, 'html.parser')\n",
    "    tmpout = soup.find_all(id='total-report-json')[0].string\n",
    "    tmpout = json.loads(tmpout.strip())\n",
    "#     print(tmpout.keys())\n",
    "    for info in tmpout['report']:\n",
    "        if info[0] == 'Mismatches':\n",
    "            for mis in info[1]:\n",
    "                tmp_key = format_key_str(mis['metricName'])\n",
    "                outdict[tmp_key] = mis['values'][0]\n",
    " \n",
    "    for info in tmpout['report']:\n",
    "        if info[0] in ['Mismatches', 'Statistics without reference']:\n",
    "            for mis in info[1]:\n",
    "                tmp_key = format_key_str(mis['metricName'])\n",
    "                outdict[tmp_key] = mis['values'][0] \n",
    "    return outdict\n"
   ]
  },
  {
   "cell_type": "code",
   "execution_count": 44,
   "id": "b404878f",
   "metadata": {},
   "outputs": [],
   "source": [
    "def get_contigs_lengths(html_file):\n",
    "    outdict = {}\n",
    "    with open(html_file,'rt') as h:\n",
    "        soup = BeautifulSoup(h, 'html.parser')\n",
    "    tmpout = soup.find_all(id='contigs-lengths-json')[0].string\n",
    "    tmpout = json.loads(tmpout.strip())\n",
    "#     print(tmpout.keys())\n",
    "#     outdict['lists_of_lengths'] = tmpout['lists_of_lengths'][0]\n",
    "    outdict = list(np.cumsum(tmpout['lists_of_lengths'][0]))\n",
    "    return outdict\n",
    "\n"
   ]
  },
  {
   "cell_type": "code",
   "execution_count": null,
   "id": "ed08fd0e",
   "metadata": {},
   "outputs": [],
   "source": []
  },
  {
   "cell_type": "code",
   "execution_count": 43,
   "id": "1453659d",
   "metadata": {},
   "outputs": [],
   "source": [
    "def get_coord_nx(html_file):\n",
    "    outdict = {}\n",
    "    with open(html_file,'rt') as h:\n",
    "        soup = BeautifulSoup(h, 'html.parser')\n",
    "    tmpout = soup.find_all(id='coord-nx-json')[0].string\n",
    "    tmpout = json.loads(tmpout.strip())\n",
    "#     print(tmpout.keys())\n",
    "    outdict['coord_y'] = tmpout['coord_y'][0]\n",
    "    outdict['coord_x'] = tmpout['coord_x'][0]\n",
    "    return outdict\n"
   ]
  },
  {
   "cell_type": "code",
   "execution_count": null,
   "id": "46910c50",
   "metadata": {},
   "outputs": [],
   "source": []
  },
  {
   "cell_type": "code",
   "execution_count": 42,
   "id": "2d0da62a",
   "metadata": {},
   "outputs": [],
   "source": [
    "def get_gc(html_file):\n",
    "    outdict = {}\n",
    "    with open(html_file,'rt') as h:\n",
    "        soup = BeautifulSoup(h, 'html.parser')\n",
    "    tmpout = soup.find_all(id='gc-json')[0].string\n",
    "    tmpout = json.loads(tmpout.strip())\n",
    "#     print(tmpout.keys())\n",
    "    outdict['list_of_GC_distributions'] = {}\n",
    "    outdict['list_of_GC_distributions']['coord_x'] = tmpout['list_of_GC_distributions'][0][0]\n",
    "    outdict['list_of_GC_distributions']['coord_y'] = tmpout['list_of_GC_distributions'][0][1]\n",
    "    \n",
    "    outdict['list_of_GC_contigs_distributions'] = {}\n",
    "    outdict['list_of_GC_contigs_distributions']['coord_x'] = tmpout['list_of_GC_contigs_distributions'][0][0]\n",
    "    outdict['list_of_GC_contigs_distributions']['coord_y'] = tmpout['list_of_GC_contigs_distributions'][0][1]\n",
    "    \n",
    "    return outdict\n"
   ]
  },
  {
   "cell_type": "code",
   "execution_count": null,
   "id": "15c00ccb",
   "metadata": {},
   "outputs": [],
   "source": []
  },
  {
   "cell_type": "code",
   "execution_count": null,
   "id": "6afd2757",
   "metadata": {},
   "outputs": [],
   "source": []
  },
  {
   "cell_type": "code",
   "execution_count": 51,
   "id": "f7d711ce",
   "metadata": {},
   "outputs": [],
   "source": [
    "def parse_quast_html(html_file):\n",
    "    outdict = {}\n",
    "    outdict['sta'] = get_total_report(html_file)\n",
    "    outdict['contig_length'] = get_contigs_lengths(html_file)\n",
    "    outdict['Nx'] = get_coord_nx(html_file)\n",
    "    outdict['gc_content'] = get_gc(html_file)\n",
    "    return outdict"
   ]
  },
  {
   "cell_type": "code",
   "execution_count": null,
   "id": "1e48b1d6",
   "metadata": {},
   "outputs": [],
   "source": []
  },
  {
   "cell_type": "code",
   "execution_count": 50,
   "id": "1e446f34",
   "metadata": {},
   "outputs": [
    {
     "name": "stderr",
     "output_type": "stream",
     "text": [
      "usage: ipykernel_launcher.py [-h] -i INPUT [-o OUTPUT]\n",
      "ipykernel_launcher.py: error: the following arguments are required: -i/--input\n"
     ]
    },
    {
     "ename": "SystemExit",
     "evalue": "2",
     "output_type": "error",
     "traceback": [
      "An exception has occurred, use %tb to see the full traceback.\n",
      "\u001b[0;31mSystemExit\u001b[0m\u001b[0;31m:\u001b[0m 2\n"
     ]
    },
    {
     "name": "stderr",
     "output_type": "stream",
     "text": [
      "/home/yangk/anaconda3/lib/python3.9/site-packages/IPython/core/interactiveshell.py:3452: UserWarning: To exit: use 'exit', 'quit', or Ctrl-D.\n",
      "  warn(\"To exit: use 'exit', 'quit', or Ctrl-D.\", stacklevel=1)\n"
     ]
    }
   ],
   "source": [
    "if __name__ == '__main__':\n",
    "    parse = argparse.ArgumentParser(formatter_class=argparse.ArgumentDefaultsHelpFormatter)\n",
    "    parse.add_argument('-i', '--input', required=True, help='quast report output html file for format')\n",
    "    parse.add_argument('-o', '--output', default=None, help='output json, default stdout')\n",
    "    args = parse.parse_args()\n",
    "    \n",
    "    logging.basicConfig(level='INFO')\n",
    "    html_file = args.input\n",
    "    outdict = parse_quast_html(html_file)\n",
    "    if args.output:\n",
    "        try:\n",
    "            with open(args.output,'w') as h:\n",
    "                json.dump(outdict, h, indent=2)\n",
    "        except Exception as e:\n",
    "            logging.error(e)\n",
    "    else:\n",
    "        print(outdict)"
   ]
  }
 ],
 "metadata": {
  "jupytext": {
   "formats": "ipynb,auto:percent"
  },
  "kernelspec": {
   "display_name": "Python 3 (ipykernel)",
   "language": "python",
   "name": "python3"
  },
  "language_info": {
   "codemirror_mode": {
    "name": "ipython",
    "version": 3
   },
   "file_extension": ".py",
   "mimetype": "text/x-python",
   "name": "python",
   "nbconvert_exporter": "python",
   "pygments_lexer": "ipython3",
   "version": "3.9.7"
  }
 },
 "nbformat": 4,
 "nbformat_minor": 5
}
