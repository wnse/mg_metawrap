{
 "cells": [
  {
   "cell_type": "code",
   "execution_count": 20,
   "id": "7a67f42d",
   "metadata": {},
   "outputs": [],
   "source": [
    "from metawrap_sh import get_kraken_shell\n",
    "from metawrap_sh import run_sh\n",
    "from metawrap_sh import copy_file_batch\n"
   ]
  },
  {
   "cell_type": "code",
   "execution_count": 5,
   "id": "a740ad7a",
   "metadata": {},
   "outputs": [],
   "source": [
    "import os\n",
    "import psutil"
   ]
  },
  {
   "cell_type": "code",
   "execution_count": null,
   "id": "cde39dfe",
   "metadata": {},
   "outputs": [],
   "source": []
  },
  {
   "cell_type": "code",
   "execution_count": 6,
   "id": "d7883838",
   "metadata": {},
   "outputs": [],
   "source": [
    "# bin_dir = os.path.split(os.path.realpath(__file__))[0]\n",
    "bin_dir = './'\n",
    "memory_total = str(int(psutil.virtual_memory().total/1024/1024/1024))\n",
    "cpu_num = psutil.cpu_count()\n",
    "if cpu_num > 4:\n",
    "    cpu_num = int(cpu_num * 0.9)"
   ]
  },
  {
   "cell_type": "code",
   "execution_count": 7,
   "id": "ade76b8c",
   "metadata": {},
   "outputs": [],
   "source": [
    "config = os.path.join(bin_dir, 'DB_config.json')"
   ]
  },
  {
   "cell_type": "code",
   "execution_count": 18,
   "id": "6a4b922b",
   "metadata": {},
   "outputs": [],
   "source": [
    "data_list = ['/mnt/d/Yangk/work/qiime/test_data/SRR18505770_1.fastq.gz', '/mnt/d/Yangk/work/qiime/test_data/SRR18505770_2.fastq.gz']\n",
    "name_list = ['fq1']\n",
    "outdir = '/mnt/d/Yangk/work/outdir'\n",
    "tmp = get_kraken_shell(config, data_list, name_list, outdir, cpu_num, kraken=True)"
   ]
  },
  {
   "cell_type": "code",
   "execution_count": 19,
   "id": "01d0f74f",
   "metadata": {},
   "outputs": [
    {
     "data": {
      "text/plain": [
       "['echo \"BMTAGGER_DB=/mnt/data/metawrap_db/BMTAGGER_INDEX/\" >>/root/metaWRAP/bin/config-metawrap',\n",
       " 'echo \"KRAKEN2_DB=/mnt/data/metawrap_db/KRAKEN2_DB/KRAKEN2_DB/\" >>/root/metaWRAP/bin/config-metawrap',\n",
       " 'echo \"BLASTDB=/mnt/data/metawrap_db/NCBI_nt\" >>/root/metaWRAP/bin/config-metawrap',\n",
       " 'echo \"TAXDUMP=/mnt/data/metawrap_db/NCBI_tax\" >>/root/metaWRAP/bin/config-metawrap',\n",
       " 'metawrap read_qc -t 14 -1 / -2 m -o /mnt/d/Yangk/work/outdir/READ_QC/fq1',\n",
       " 'mv /mnt/d/Yangk/work/outdir/READ_QC/fq1/final_pure_reads_1.fastq /mnt/d/Yangk/work/outdir/CLEAN_READS/fq1_1.fastq',\n",
       " 'mv /mnt/d/Yangk/work/outdir/READ_QC/fq1/final_pure_reads_2.fastq /mnt/d/Yangk/work/outdir/CLEAN_READS/fq1_2.fastq',\n",
       " 'cat /mnt/d/Yangk/work/outdir/CLEAN_READS/*_1.fastq > /mnt/d/Yangk/work/outdir/CLEAN_READS_T/ALL_READS_1.fastq',\n",
       " 'cat /mnt/d/Yangk/work/outdir/CLEAN_READS/*_2.fastq > /mnt/d/Yangk/work/outdir/CLEAN_READS_T/ALL_READS_2.fastq',\n",
       " '',\n",
       " 'metawrap kraken2 -t 14 -o /mnt/d/Yangk/work/outdir/KRAKEN /mnt/d/Yangk/work/outdir/CLEAN_READS/fq1_1.fastq /mnt/d/Yangk/work/outdir/CLEAN_READS/fq1_2.fastq /mnt/d/Yangk/work/outdir/CLEAN_READS_T/ALL_READS_1.fastq /mnt/d/Yangk/work/outdir/CLEAN_READS_T/ALL_READS_2.fastq']"
      ]
     },
     "execution_count": 19,
     "metadata": {},
     "output_type": "execute_result"
    }
   ],
   "source": [
    "tmp[0].split('\\n')"
   ]
  },
  {
   "cell_type": "code",
   "execution_count": null,
   "id": "69eb8d8f",
   "metadata": {},
   "outputs": [],
   "source": []
  },
  {
   "cell_type": "code",
   "execution_count": null,
   "id": "18642cc5",
   "metadata": {},
   "outputs": [],
   "source": []
  }
 ],
 "metadata": {
  "kernelspec": {
   "display_name": "Python 3 (ipykernel)",
   "language": "python",
   "name": "python3"
  },
  "language_info": {
   "codemirror_mode": {
    "name": "ipython",
    "version": 3
   },
   "file_extension": ".py",
   "mimetype": "text/x-python",
   "name": "python",
   "nbconvert_exporter": "python",
   "pygments_lexer": "ipython3",
   "version": "3.9.7"
  }
 },
 "nbformat": 4,
 "nbformat_minor": 5
}
