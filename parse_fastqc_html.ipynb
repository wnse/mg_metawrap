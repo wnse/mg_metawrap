{
 "cells": [
  {
   "cell_type": "code",
   "execution_count": 307,
   "id": "0fe2a0d8",
   "metadata": {},
   "outputs": [],
   "source": [
    "from bs4 import BeautifulSoup\n",
    "import base64\n",
    "import pandas as pd\n",
    "import re\n",
    "import base64\n",
    "import os\n",
    "import logging\n",
    "import json\n",
    "import argparse"
   ]
  },
  {
   "cell_type": "code",
   "execution_count": 82,
   "id": "34b95840",
   "metadata": {},
   "outputs": [],
   "source": []
  },
  {
   "cell_type": "code",
   "execution_count": 310,
   "id": "ad8b92ef",
   "metadata": {
    "scrolled": false
   },
   "outputs": [],
   "source": [
    "def get_fqc(html_file):\n",
    "    outdict = {}\n",
    "    outdict['html'] = os.path.realpath(html_file)\n",
    "    outdict['sta'] = {}\n",
    "    outdict['info'] = {}\n",
    "    outdict['png'] = {}\n",
    "    try:\n",
    "        outdict['sta'].update(get_fqc_sta(html_file))\n",
    "    except Exception as e:\n",
    "        logging.error(e)\n",
    "    try:\n",
    "        with open(html_file,'rt') as h:\n",
    "            soup = BeautifulSoup(h, 'html.parser')\n",
    "        try:\n",
    "            outdict['info'].update(get_fqc_info(soup))\n",
    "        except Exception as e:\n",
    "            logging.error(e)\n",
    "        try:\n",
    "            outdict['png'].update(get_fqc_png(soup))\n",
    "        except Exception as e:\n",
    "            logging.error(e)\n",
    "            \n",
    "    except Exception as e:\n",
    "        logging.error(e)\n",
    "    return outdict"
   ]
  },
  {
   "cell_type": "code",
   "execution_count": 297,
   "id": "fd4d2c64",
   "metadata": {},
   "outputs": [],
   "source": [
    "def get_fqc_png(soup):\n",
    "    outdict = {}\n",
    "    right_info = list(list(soup.body.children)[2])[1:]\n",
    "    for info in right_info:\n",
    "        info_tmp = list(info.children)\n",
    "        key = list(info_tmp[0])[1]\n",
    "        key = re.sub('\\s+','_', key)\n",
    "        try:\n",
    "            src = list(info_tmp[1].children)[0]['src']\n",
    "            src = re.sub('^data:image/png;base64,', '', src)\n",
    "            value = src\n",
    "    #         with open(f'{key}.png', 'wb') as h:\n",
    "    #             imgdata = base64.b64decode(src)\n",
    "    #             h.write(imgdata)\n",
    "    #             print(src)\n",
    "        except Exception as e:\n",
    "            value = ''\n",
    "        outdict[key] = value\n",
    "    return outdict"
   ]
  },
  {
   "cell_type": "code",
   "execution_count": 304,
   "id": "c4b56ba7",
   "metadata": {
    "scrolled": true
   },
   "outputs": [],
   "source": [
    "def get_fqc_info(soup):\n",
    "    out_dict = {}\n",
    "    left_info = list(list(soup.body.children)[1])[1]\n",
    "    for info in list(left_info.children):\n",
    "    #     print(info.contents)\n",
    "        img, title = info.contents\n",
    "        key = re.sub('\\s+', '_', title.string)\n",
    "        value = re.sub('\\]', '', re.sub('\\[','', img['alt']))\n",
    "        out_dict[key] = value\n",
    "    return out_dict\n"
   ]
  },
  {
   "cell_type": "code",
   "execution_count": 305,
   "id": "6a3f6e71",
   "metadata": {
    "scrolled": true
   },
   "outputs": [],
   "source": [
    "def get_fqc_sta(html_file):\n",
    "    df_sta = pd.read_html(html_file)[0].set_index('Measure')['Value']\n",
    "    df_sta.index = df_sta.index.str.replace('\\s+','_', regex=True).str.replace('%', '')\n",
    "    return df_sta.to_dict()"
   ]
  },
  {
   "cell_type": "code",
   "execution_count": 308,
   "id": "7cf73a3a",
   "metadata": {},
   "outputs": [
    {
     "name": "stderr",
     "output_type": "stream",
     "text": [
      "usage: ipykernel_launcher.py [-h] -i INPUT [-o OUTPUT]\n",
      "ipykernel_launcher.py: error: the following arguments are required: -i/--input\n"
     ]
    },
    {
     "ename": "SystemExit",
     "evalue": "2",
     "output_type": "error",
     "traceback": [
      "An exception has occurred, use %tb to see the full traceback.\n",
      "\u001b[0;31mSystemExit\u001b[0m\u001b[0;31m:\u001b[0m 2\n"
     ]
    },
    {
     "name": "stderr",
     "output_type": "stream",
     "text": [
      "/home/yangk/anaconda3/lib/python3.9/site-packages/IPython/core/interactiveshell.py:3452: UserWarning: To exit: use 'exit', 'quit', or Ctrl-D.\n",
      "  warn(\"To exit: use 'exit', 'quit', or Ctrl-D.\", stacklevel=1)\n"
     ]
    }
   ],
   "source": [
    "if __name__ == '__main__':\n",
    "    parse = argparse.ArgumentParser(formatter_class=argparse.ArgumentDefaultsHelpFormatter)\n",
    "    parse.add_argument('-i', '--input', required=True, help='fastqc output html file for format')\n",
    "    parse.add_argument('-o', '--output', default=None, help='output json, default stdout')\n",
    "    args = parse.parse_args()\n",
    "    \n",
    "    logging.basicConfig(level='INFO')\n",
    "    html_file = args.input\n",
    "    outdict = get_fqc(html_file)\n",
    "    if args.output:\n",
    "        try:\n",
    "            with open(args.output,'w') as h:\n",
    "                json.dump(outdict, h, indent=2)\n",
    "        except Exception as e:\n",
    "            logging.error(e)\n",
    "    else:\n",
    "        print(outdict)"
   ]
  },
  {
   "cell_type": "code",
   "execution_count": null,
   "id": "e1ad8f5d",
   "metadata": {},
   "outputs": [],
   "source": []
  }
 ],
 "metadata": {
  "jupytext": {
   "formats": "ipynb,auto:percent"
  },
  "kernelspec": {
   "display_name": "Python 3 (ipykernel)",
   "language": "python",
   "name": "python3"
  },
  "language_info": {
   "codemirror_mode": {
    "name": "ipython",
    "version": 3
   },
   "file_extension": ".py",
   "mimetype": "text/x-python",
   "name": "python",
   "nbconvert_exporter": "python",
   "pygments_lexer": "ipython3",
   "version": "3.9.7"
  }
 },
 "nbformat": 4,
 "nbformat_minor": 5
}
